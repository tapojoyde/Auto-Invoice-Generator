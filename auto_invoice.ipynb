{
 "cells": [
  {
   "cell_type": "markdown",
   "id": "312d1893",
   "metadata": {},
   "source": [
    "# Automatic Invoice Generation"
   ]
  },
  {
   "cell_type": "markdown",
   "id": "4c18843d",
   "metadata": {},
   "source": [
    "<p style=\"text-align:center;\">\n",
    "    <img src=\"images/invoice_ani.gif\" alt=\"invoice-animation\" title=\"Invoice\" width=\"800\"><br>\n",
    "    <center><i>Fig. 1: Invoice Generation [source: <a href=\"https://www.sage.com/en-gb/blog/invoice-cheat-sheet/\">Stacey McIntosh / Sage Advice]</a></i></center>\n",
    "</p>"
   ]
  },
  {
   "cell_type": "markdown",
   "id": "c1a6a8fb",
   "metadata": {},
   "source": [
    "# Table of Contents\n",
    "\n",
    "* [1 Introduction](#Introduction)\n",
    "* [2 Setup Virtual Environment](#Setup-Virtual-Environment)\n",
    "* [3 Setup Dependencies](#Setup-Dependencies)\n",
    "* [4 Create Invoice Template](#Create-Invoice-Template)\n",
    "* [5 Generate PDF from HTML](#Generate-PDF-from-HTML)\n",
    "* [6 Create Flask Application](#Create-Flask-Application)\n",
    "* [7 Make Invoice Dynamic](#Make-Invoice-Dynamic)\n",
    "* [8 Convert Dynamic Invoice to PDF](#Convert-Dynamic-Invoice-to-PDF)\n",
    "* [9 Get Client Input](#Get-Client-Input)\n",
    "* [10 Application Testing](#Application-Testing)\n",
    "* [11 Challenges](#Challenges)\n",
    "* [12 Further Steps](#Further-Steps)\n",
    "* [13 References](#References)"
   ]
  },
  {
   "cell_type": "markdown",
   "id": "360cf54e",
   "metadata": {},
   "source": [
    "## Introduction"
   ]
  },
  {
   "cell_type": "markdown",
   "id": "66bca373",
   "metadata": {},
   "source": [
    "In this project, we aim to generate invoices automatically using Python programming. The program will take invoice details as the input, and thereafter generate and email invoices in PDF format to the respective recipients."
   ]
  },
  {
   "cell_type": "markdown",
   "id": "6e55d0e8",
   "metadata": {},
   "source": [
    "## Setup Virtual Environment"
   ]
  },
  {
   "cell_type": "markdown",
   "id": "cd855f26",
   "metadata": {},
   "source": [
    "First, we will create a virtual environment `inv-env` and activate it and add it to this notebook as a Python kernel."
   ]
  },
  {
   "cell_type": "code",
   "execution_count": 1,
   "id": "feedd4cd",
   "metadata": {},
   "outputs": [
    {
     "name": "stdout",
     "output_type": "stream",
     "text": [
      "Installed kernelspec inv-env in C:\\Users\\de777\\AppData\\Roaming\\jupyter\\kernels\\inv-env\n"
     ]
    }
   ],
   "source": [
    "!python -m venv inv-env\n",
    "!.\\inv-env\\Scripts\\activate\n",
    "!ipython kernel install --user --name=inv-env"
   ]
  },
  {
   "cell_type": "markdown",
   "id": "b019b1c7",
   "metadata": {},
   "source": [
    "Next, we will generate a list of all active kernels to check if `inv-env` is active."
   ]
  },
  {
   "cell_type": "code",
   "execution_count": 2,
   "id": "eba081b3",
   "metadata": {},
   "outputs": [
    {
     "name": "stdout",
     "output_type": "stream",
     "text": [
      "Available kernels:\n",
      "  f1-env       C:\\Users\\de777\\AppData\\Roaming\\jupyter\\kernels\\f1-env\n",
      "  inv-env      C:\\Users\\de777\\AppData\\Roaming\\jupyter\\kernels\\inv-env\n",
      "  news-env     C:\\Users\\de777\\AppData\\Roaming\\jupyter\\kernels\\news-env\n",
      "  sign-env     C:\\Users\\de777\\AppData\\Roaming\\jupyter\\kernels\\sign-env\n",
      "  steam-env    C:\\Users\\de777\\AppData\\Roaming\\jupyter\\kernels\\steam-env\n",
      "  yt-env       C:\\Users\\de777\\AppData\\Roaming\\jupyter\\kernels\\yt-env\n",
      "  python3      D:\\Python\\share\\jupyter\\kernels\\python3\n"
     ]
    }
   ],
   "source": [
    "!jupyter kernelspec list"
   ]
  },
  {
   "cell_type": "markdown",
   "id": "1e238eac",
   "metadata": {},
   "source": [
    "We will refresh the notebook and select the new kernel by going to: `Toolbar Menu` $\\rightarrow$ `Kernel` $\\rightarrow$ `Change kernel` $\\rightarrow$ `inv-env`."
   ]
  },
  {
   "cell_type": "markdown",
   "id": "6465f960",
   "metadata": {},
   "source": [
    "## Setup Dependencies"
   ]
  },
  {
   "cell_type": "markdown",
   "id": "096c7aa9",
   "metadata": {},
   "source": [
    "We will be using the following libraries :\n",
    "- `flask` : provides useful tools & features for easy creation of web applications in Python\n",
    "- `weasyprint` : helps to create PDF documents from simple HTML pages\n",
    "\n",
    "So, first we will install `flask`."
   ]
  },
  {
   "cell_type": "code",
   "execution_count": 24,
   "id": "bf77ba7b",
   "metadata": {},
   "outputs": [
    {
     "name": "stdout",
     "output_type": "stream",
     "text": [
      "Requirement already satisfied: flask in d:\\python\\lib\\site-packages (2.0.3)\n",
      "Requirement already satisfied: Jinja2>=3.0 in d:\\python\\lib\\site-packages (from flask) (3.0.3)\n",
      "Requirement already satisfied: click>=7.1.2 in d:\\python\\lib\\site-packages (from flask) (8.0.4)\n",
      "Requirement already satisfied: Werkzeug>=2.0 in d:\\python\\lib\\site-packages (from flask) (2.0.3)\n",
      "Requirement already satisfied: itsdangerous>=2.0 in d:\\python\\lib\\site-packages (from flask) (2.1.2)\n",
      "Requirement already satisfied: colorama in d:\\python\\lib\\site-packages (from click>=7.1.2->flask) (0.4.4)\n",
      "Requirement already satisfied: MarkupSafe>=2.0 in d:\\python\\lib\\site-packages (from Jinja2>=3.0->flask) (2.0.1)\n"
     ]
    }
   ],
   "source": [
    "!pip3 install flask"
   ]
  },
  {
   "cell_type": "markdown",
   "id": "a2b549ba",
   "metadata": {},
   "source": [
    "In order to install `weasyprint` package on Windows, we need to first install GTK. For that, we need to download the latest GTK3 installer from this [github repository](https://github.com/tschoonj/GTK-for-Windows-Runtime-Environment-Installer/releases), launch it and complete the setup keeping the default options selected. Instructions for setup in details can be found [here](https://doc.courtbouillon.org/weasyprint/stable/first_steps.html)."
   ]
  },
  {
   "cell_type": "code",
   "execution_count": 36,
   "id": "d8eaf594",
   "metadata": {},
   "outputs": [],
   "source": [
    "!pip3 install weasyprint"
   ]
  },
  {
   "cell_type": "markdown",
   "id": "6f84028d",
   "metadata": {},
   "source": [
    "Now, we will create an `app.py` file in our working directory and add the following imports at the top :\n",
    "\n",
    ">```py\n",
    ">from weasyprint import HTML\n",
    ">from flask import Flask\n",
    ">```"
   ]
  },
  {
   "cell_type": "markdown",
   "id": "939d9864",
   "metadata": {},
   "source": [
    "We will now generate a `requirements.txt` file in our working directory to store information about all dependencies for this project using `pipreqs` library ([link](https://pypi.org/project/pipreqs/))."
   ]
  },
  {
   "cell_type": "code",
   "execution_count": 8,
   "id": "59d24fd6",
   "metadata": {},
   "outputs": [
    {
     "name": "stderr",
     "output_type": "stream",
     "text": [
      "INFO: Successfully saved requirements file in E:\\Git Repo\\Auto-Invoice-Generator\\requirements.txt\n"
     ]
    }
   ],
   "source": [
    "#!pip3 install pipreqs\n",
    "!pipreqs --force --encoding=utf8"
   ]
  },
  {
   "cell_type": "markdown",
   "id": "04033f5a",
   "metadata": {},
   "source": [
    "## Create Invoice Template"
   ]
  },
  {
   "cell_type": "markdown",
   "id": "6054c928",
   "metadata": {},
   "source": [
    "We need to have a template before creating PDF invoices. For this, we can either search for an HTML invoice template online or create build one. Here, we will use a simple and clean open-source HTML invoice template provided by Sparksuite ([see demo](https://sparksuite.github.io/simple-html-invoice-template/)). We can further customize it to suit our requirements.\n",
    "\n",
    "The HTML file can be downloaded from here : https://github.com/sparksuite/simple-html-invoice-template/blob/master/invoice.html\n"
   ]
  },
  {
   "cell_type": "markdown",
   "id": "61261151",
   "metadata": {},
   "source": [
    "<p style=\"text-align:center;\">\n",
    "    <img src=\"images/invoice_template.png\" alt=\"invoice-template\" title=\"Invoice Template\" width=\"500\"><br>\n",
    "    <center><i>Fig. 2: Simple Invoice Template [source: <a href=\"https://sparksuite.github.io/simple-html-invoice-template/\">Wes Cossick / Sparksuite]</a></i></center>\n",
    "</p>"
   ]
  },
  {
   "cell_type": "markdown",
   "id": "8bad62cb",
   "metadata": {},
   "source": [
    "We will make some modifications to this template. Firstly, we will remove the border and drop-shadow from the `.invoice-box`. Then we will add a footer to the page, and change the logo. And finally, we will save the code in `invoice.html` file in the working directory."
   ]
  },
  {
   "cell_type": "markdown",
   "id": "29326dd3",
   "metadata": {},
   "source": [
    "## Generate PDF from HTML"
   ]
  },
  {
   "cell_type": "markdown",
   "id": "4c9cc7cf",
   "metadata": {},
   "source": [
    "Here we will use `weasyprint` library to convert `invoice.html` to `invoice.pdf` using the following code chunk :\n",
    "\n",
    ">```py\n",
    ">html = HTML('invoice.html')\n",
    ">html.write_pdf('invoice.pdf')\n",
    ">```\n",
    "\n",
    "Then, we will run the `app.py` file."
   ]
  },
  {
   "cell_type": "code",
   "execution_count": null,
   "id": "71471e05",
   "metadata": {},
   "outputs": [],
   "source": [
    "!python app.py"
   ]
  },
  {
   "cell_type": "markdown",
   "id": "1b6e7bce",
   "metadata": {},
   "source": [
    "From the output PDF generated, it can be seen that there is a large margin on both sides of the page as shown :"
   ]
  },
  {
   "cell_type": "markdown",
   "id": "57eba766",
   "metadata": {},
   "source": [
    "<p style=\"text-align:center;\">\n",
    "    <img src=\"images/extra_margin.jpg\" alt=\"margin\" title=\"Extra Margin in PDF\" width=\"600\" style=\"border:2px solid black\"><br>\n",
    "    <center><i>Fig. 3: Extra Margin in Generated PDF</i></center>\n",
    "</p>"
   ]
  },
  {
   "cell_type": "markdown",
   "id": "bb74cd02",
   "metadata": {},
   "source": [
    "To avoid this, the following lines can be added between the `<style></style>` tags in the `invoice.html` file as follows :"
   ]
  },
  {
   "cell_type": "markdown",
   "id": "1cfa5a50",
   "metadata": {},
   "source": [
    ">`@page {\n",
    "  size: a4 portrait;\n",
    "  margin: 0mm 0mm 0mm 0mm;\n",
    "  counter-increment: page;\n",
    "}`"
   ]
  },
  {
   "cell_type": "markdown",
   "id": "aa062da2",
   "metadata": {},
   "source": [
    "Now, on running the same code above, we will see that the margin is gone."
   ]
  },
  {
   "cell_type": "code",
   "execution_count": 45,
   "id": "b7292d81",
   "metadata": {},
   "outputs": [],
   "source": [
    "!python app.py"
   ]
  },
  {
   "cell_type": "markdown",
   "id": "58d54147",
   "metadata": {},
   "source": [
    "## Create Flask Application"
   ]
  },
  {
   "cell_type": "markdown",
   "id": "c86d752d",
   "metadata": {},
   "source": [
    "Before converting this into a dynamic template, we will first create a basic Flask application. For this, we will make use of the starter code found on [flask’s website](https://flask.palletsprojects.com/en/latest/quickstart/)."
   ]
  },
  {
   "cell_type": "markdown",
   "id": "15103927",
   "metadata": {},
   "source": [
    ">```py\n",
    ">import os\n",
    ">app = Flask(__name__)\n",
    ">\n",
    ">@app.route('/')\n",
    ">app.config['TEMPLATES_AUTO_RELOAD'] = True\n",
    ">\n",
    ">def hello_world():\n",
    ">    return 'Hello, World!'\n",
    ">\n",
    ">if __name__ == \"__main__\":\n",
    ">   app.run(debug=True, use_reloader=True)\n",
    ">```"
   ]
  },
  {
   "cell_type": "markdown",
   "id": "82eb61de",
   "metadata": {},
   "source": [
    "Here, we set `app.config['TEMPLATES_AUTO_RELOAD'] = True` in order to check for modifications of the template source at any instance and render the updated version automatically.  We can now run the `app.py` application :"
   ]
  },
  {
   "cell_type": "code",
   "execution_count": 5,
   "id": "e3767101",
   "metadata": {},
   "outputs": [
    {
     "name": "stdout",
     "output_type": "stream",
     "text": [
      "^C\n"
     ]
    }
   ],
   "source": [
    "!python app.py"
   ]
  },
  {
   "cell_type": "markdown",
   "id": "04d5d6f4",
   "metadata": {},
   "source": [
    "Now, when we open up `127.0.0.1:5000` in a web browser, we should see : `\"Hello, World!\"`. To return the `invoice.html` template instead, we will first create a `templates` folder and copy our `invoice.html` file to that. And then, we will replace the `\"Hello, World!\"` with `render_template('invoice.html')` in the `app.py` file as shown below :"
   ]
  },
  {
   "cell_type": "markdown",
   "id": "ef528470",
   "metadata": {},
   "source": [
    ">```py\n",
    ">from flask import Flask, render_template \n",
    ">app = Flask(__name__)\n",
    ">\n",
    ">@app.route('/')\n",
    ">def hello_world():\n",
    ">    return render_template('invoice.html')\n",
    ">```"
   ]
  },
  {
   "cell_type": "markdown",
   "id": "5ef612cd",
   "metadata": {},
   "source": [
    "On restarting the flask server, we will see the invoice when we open up `127.0.0.1:5000` in our browser."
   ]
  },
  {
   "cell_type": "markdown",
   "id": "e0f8aa8f",
   "metadata": {},
   "source": [
    "## Make Invoice Dynamic"
   ]
  },
  {
   "cell_type": "markdown",
   "id": "73e697da",
   "metadata": {},
   "source": [
    "To make the invoice dynamic, we will be using Jinja template variables and loops. \n",
    "\n",
    "**About Jinja :** Jinja is a web template engine for the Python. It renders the HTML templates which flask sends to the browser. \n",
    "\n",
    "When we call `render_template()`, we will pass in keyword variables which will be accessible in our `invoice.html` template. We can start by updating the “Created” date and modifying the `app.py` as follows :"
   ]
  },
  {
   "cell_type": "markdown",
   "id": "2eb84d85",
   "metadata": {},
   "source": [
    ">```py\n",
    ">from flask import Flask, render_template\n",
    ">from datetime import datetime\n",
    ">\n",
    ">app = Flask(__name__)\n",
    ">\n",
    ">@app.route('/')\n",
    ">def hello_world():\n",
    ">   today = datetime.today().strftime(\"%B %d, %Y\")\n",
    ">   return render_template('invoice.html', date = today)\n",
    ">```"
   ]
  },
  {
   "cell_type": "markdown",
   "id": "45fb4009",
   "metadata": {},
   "source": [
    "Here, we are using the `datetime` library to get the current date and then the `strftime` method to format it as: *“Month Date, Year”*. Next, we will update our `invoice.html` template in the `templates` directory by replacing the date with: $\\{\\{\\texttt{date}\\}\\}$. In this way, when we restart the Flask server, we will be getting a response with the updated date."
   ]
  },
  {
   "cell_type": "markdown",
   "id": "be5e30ec",
   "metadata": {},
   "source": [
    "Similarly, for other objects like invoice no., from and to addresses etc., we will update the `app.py` file accordingly as:\n",
    "\n",
    ">```py\n",
    ">def hello_world():\n",
    ">    today = datetime.today().strftime(\"%B %d, %Y\")\n",
    ">    invoice_number = 25678\n",
    ">    duedate = 'August 1, 2023'\n",
    ">    from_addr = {\n",
    ">        'company_name': 'GitHub Inc.',\n",
    ">        'addr1': '88 Colin P Kelly Jr St',\n",
    ">        'addr2': 'San Francisco, CA 94107'        \n",
    ">    }\n",
    ">    to_addr = {\n",
    ">        'company_name': 'Stack Overflow Ltd.',\n",
    ">        'person_name': 'Prashanth Chandrasekar',\n",
    ">        'person_email': 'prashanthc@example.com'\n",
    ">    }\n",
    ">    items = [\n",
    ">            {\n",
    ">                'title': 'Website design',\n",
    ">                'charge': 1000.0                \n",
    ">            },\n",
    ">            {\n",
    ">                'title': 'Hosting (3 months)',\n",
    ">                'charge': 650.0                \n",
    ">            },\n",
    ">            {\n",
    ">                'title': 'Domain name (1 year)',\n",
    ">                'charge': 200.0                \n",
    ">            }\n",
    ">    ]\n",
    ">    total = sum([i['charge'] for i in items])\n",
    ">    return render_template('invoice.html',\n",
    ">                            date = today,\n",
    ">                            invoice_number = invoice_number,\n",
    ">                            duedate = duedate,\n",
    ">                            from_addr = from_addr,\n",
    ">                            to_addr = to_addr,\n",
    ">                            items = items,\n",
    ">                            total = total                            \n",
    ">                            )\n",
    ">```\n",
    "\n",
    "\n",
    "Next, in `invoice.html` template, we will replace the following :\n",
    "\n",
    "- invoice number $\\rightarrow$ $\\{\\{\\texttt{invoice_number}\\}\\}$\n",
    "\n",
    "- due date $\\rightarrow$ $\\{\\{\\texttt{duedate}\\}\\}$\n",
    "\n",
    "- sender's address\n",
    "    * company's name $\\rightarrow$ $\\{\\{\\texttt{from_addr['company_name']}\\}\\}$\n",
    "    * address line 1 $\\rightarrow$ $\\{\\{\\texttt{from_addr['addr1']}\\}\\}$\n",
    "    * address line 2 $\\rightarrow$ $\\{\\{\\texttt{from_addr['addr2']}\\}\\}$\n",
    "\n",
    "- receiver's address\n",
    "    * company's name $\\rightarrow$ $\\{\\{\\texttt{to_addr['company_name']}\\}\\}$\n",
    "    * person's name $\\rightarrow$ $\\{\\{\\texttt{to_addr['person_name']}\\}\\}$\n",
    "    * person's email address $\\rightarrow$ $\\{\\{\\texttt{to_addr['person_email']}\\}\\}$\n",
    "\n",
    "- products\n",
    "    * item's name $\\rightarrow$ $\\{\\{\\texttt{item['title']}\\}\\}$\n",
    "    * price $\\rightarrow$ $\\{\\{\\texttt{item['charge']}\\}\\}$\n",
    "\n",
    "- total price $\\rightarrow$ $\\{\\{\\texttt{total}\\}\\}$"
   ]
  },
  {
   "cell_type": "markdown",
   "id": "79a888bb",
   "metadata": {},
   "source": [
    "Essentially, we are passing multiple arguments while calling `render_template()` and their values are accessed by enclosing them in double curly braces in the form: `{{variable_name}}`. In Jinja, double curly braces allow evaluation of an expression, variable, or function call and print the result into the template.\n",
    "\n",
    "We will also loop over the list of items using a for loop as : `${{% for item in items %}}`, and then end the loop using : `{{% endfor %}}`.\n",
    "\n",
    "Complete final code for `invoice.html`  found [here](templates/invoice.html). After landing on the webpage, right-click and click on “View Page Source” to see the the HTML code."
   ]
  },
  {
   "cell_type": "markdown",
   "id": "f60671ad",
   "metadata": {},
   "source": [
    "## Convert Dynamic Invoice to PDF"
   ]
  },
  {
   "cell_type": "markdown",
   "id": "68b4273c",
   "metadata": {},
   "source": [
    "To generate a PDF and send it to the user, we will use `HTML` function from `weasyprint` and `send_file` function from `flask`. We will save the rendered PDF in a `static` folder and use `send_file` to safely send that PDF to the client. The generated PDF file can be found [here](static/invoice.pdf).\n",
    "\n",
    ">```py\n",
    ">from flask import Flask, render_template, send_file\n",
    ">from datetime import datetime\n",
    ">from weasyprint import HTML\n",
    ">\n",
    "># --snip-- #\n",
    ">\n",
    ">def hello_world():\n",
    ">    # --snip-- #\n",
    ">    rendered = render_template('invoice.html',\n",
    ">                                date = today,\n",
    ">                                from_addr = from_addr,\n",
    ">                                to_addr = to_addr,\n",
    ">                                items = items,\n",
    ">                                total = total,\n",
    ">                                invoice_number = invoice_number,\n",
    ">                                duedate = duedate)\n",
    ">    html = HTML(string=rendered)\n",
    ">    rendered_pdf = html.write_pdf('./static/invoice.pdf')\n",
    ">    return send_file('./static/invoice.pdf')\n",
    ">```"
   ]
  },
  {
   "cell_type": "markdown",
   "id": "2658ef8b",
   "metadata": {},
   "source": [
    "Here, instead of returning the rendered template, we are assigning it to the `rendered` variable which is then passed to `HTML` function and saved under `html` variable. Next, we are writing the PDF output to a file and using the `send_file` function to send that PDF to the client."
   ]
  },
  {
   "cell_type": "markdown",
   "id": "4faaa8c8",
   "metadata": {},
   "source": [
    "To skip writing the PDF to disk, we will use the `io` library to render it in memory and send it directly to the client. For that, we don't need to pass any arguments to `write_pdf()`. Instead, we will pass our bytes to the `io.BytesIO()` function and pass that to the `send_file` function. `io.BytesIO()` converts regular bytes to behave in a similar way to a file object. It also provides us with a `.read()` method, which is a requirement of file objects in Flask and is otherwise absent from our `rendered_pdf`.\n",
    "\n",
    ">```py\n",
    "># --snip-- #\n",
    ">import io\n",
    ">\n",
    "># --snip-- #\n",
    ">def hello_world():\n",
    ">    # --snip-- #\n",
    ">    html = HTML(string=rendered)\n",
    ">    print(rendered)\n",
    ">    rendered_pdf = html.write_pdf()\n",
    ">    return send_file(io.BytesIO(rendered_pdf), download_name='invoice.pdf')\n",
    ">```"
   ]
  },
  {
   "cell_type": "markdown",
   "id": "d36dcf52",
   "metadata": {},
   "source": [
    "Now, on running the `app.py` file again and opening up `127.0.0.1:5000` in our browser, we will get a PDF response back."
   ]
  },
  {
   "cell_type": "markdown",
   "id": "8b26e2a1",
   "metadata": {},
   "source": [
    "<p style=\"text-align:center;\">\n",
    "    <img src=\"images/response_pdf.png\" alt=\"pdf-response\" title=\"PDF Response\" width=\"600\" style=\"border:2px solid black\"><br>\n",
    "    <center><i>Fig. 4: Generated PDF Response</i></center>\n",
    "</p>"
   ]
  },
  {
   "cell_type": "markdown",
   "id": "110cfbe2",
   "metadata": {},
   "source": [
    "## Get Client Input"
   ]
  },
  {
   "cell_type": "markdown",
   "id": "138d37a5",
   "metadata": {},
   "source": [
    "To collect invoice information from the client/user, we will use a basic API, where we will take input in JSON format and\n",
    "return the output as a PDF file. We will set up the structure of expected input for our API and assign it to a `default_data` dictionary, to have some default data to use in case the user-supplied input is incomplete.\n",
    "\n",
    ">```py\n",
    ">default_data =\n",
    ">{\n",
    ">    'invoice_number': 25678,\n",
    ">    'duedate': 'August 1, 2023',\n",
    ">    'from_addr': {\n",
    ">            'company_name': 'GitHub Inc.',\n",
    ">            'addr1': '88 Colin P Kelly Jr St',\n",
    ">            'addr2': 'San Francisco, CA 94107'            \n",
    ">        },\n",
    ">        'to_addr': {\n",
    ">            'company_name': 'Stack Overflow Ltd.',\n",
    ">            'person_name': 'Prashanth Chandrasekar',\n",
    ">            'person_email': 'prashanthc@example.com'            \n",
    ">        },\n",
    ">        'items': [{\n",
    ">                'title': 'Website Designing',\n",
    ">                'charge': 1000.0\n",
    ">            },\n",
    ">            {\n",
    ">                'title': 'Hosting (3 months)',\n",
    ">                'charge': 650.0\n",
    ">            },\n",
    ">            {\n",
    ">                'title': 'Domain Name (1 year)',\n",
    ">                'charge': 200.0\n",
    ">    }]\n",
    ">}\n",
    ">```"
   ]
  },
  {
   "cell_type": "markdown",
   "id": "99560568",
   "metadata": {},
   "source": [
    "Next, we will specify `GET` and `POST` requests in our route (`@app.route`) so that it responds to those type of requests : \n",
    "\n",
    ">```py\n",
    ">@app.route('/', methods=['GET', 'POST'])\n",
    ">```\n",
    "\n",
    "In order to access `POST` JSON data in Flask, we will use `request.get_json()` method. If the request is of `GET` type, `request.get_json()` will return `None` and so `posted_data` will be equal to `{}`. This is implemented as follows :\n",
    "\n",
    ">```py\n",
    ">from flask import request\n",
    "># -- snip-- #\n",
    ">\n",
    ">def hello_world():\n",
    ">    # --snip -- #\n",
    ">    posted_json = request.get_json() or {}\n",
    ">```\n",
    "\n",
    "Next, we will use `.get()` method to get data from the `posted_data` dictionary based on respective keys of objects in the invoice. In case a dictionary key is absent or has empty value, `.get()` method will return a default value from `default_data` dictionary that we have defined before. The method for duedate will look like :\n",
    "\n",
    ">```py\n",
    ">duedate = posted_data.get('duedate', default_data['duedate'])\n",
    ">```\n",
    "\n",
    "Accordingly, we will modify the rest of our `app.py` file data and the final code can be found [here](app.py)."
   ]
  },
  {
   "cell_type": "markdown",
   "id": "77c7974a",
   "metadata": {},
   "source": [
    "Lastly, we will update our `requirements.txt` file to capture all the dependencies used in `app.py` file :"
   ]
  },
  {
   "cell_type": "code",
   "execution_count": 14,
   "id": "7ad3aadc",
   "metadata": {},
   "outputs": [
    {
     "name": "stderr",
     "output_type": "stream",
     "text": [
      "INFO: Successfully saved requirements file in E:\\Git Repo\\Auto-Invoice-Generator\\requirements.txt\n"
     ]
    }
   ],
   "source": [
    "!pipreqs --force --encoding=utf8"
   ]
  },
  {
   "cell_type": "markdown",
   "id": "72be3a57",
   "metadata": {},
   "source": [
    "## Application Testing"
   ]
  },
  {
   "cell_type": "markdown",
   "id": "a40dc163",
   "metadata": {},
   "source": [
    "To check if it works, we will use the `requests` library to open up the URL and save the data in a local PDF file. For this, we will create a new file named `app_test.py` ([click to view](app_test.py)) and add the following code to it :\n",
    "\n",
    ">```py\n",
    ">import requests\n",
    ">url = 'http://127.0.0.1:5000/'\n",
    ">data = {\n",
    ">    'invoice_number': 15665,\n",
    ">    'duedate': 'December 1, 2022',\n",
    ">    'from_addr': {\n",
    ">        'company_name': 'Python Projects',\n",
    ">        'addr1': '18 Mt Alexander Rd, Flemington',\n",
    ">        'addr2': 'Melbourne, VIC 3032'\n",
    ">    },\n",
    ">    'to_addr': {\n",
    ">        'company_name': 'My Company Inc.',\n",
    ">        'person_name': 'Tapojoy De',\n",
    ">        'person_email': 'tdjoy@example.com'\n",
    ">    },\n",
    ">    'items': [{\n",
    ">        'title': 'Brochure Designing',\n",
    ">        'charge': 900.0\n",
    ">    }, {\n",
    ">        'title': 'Hosting (6 months)',\n",
    ">        'charge': 550.0\n",
    ">    }, {\n",
    ">        'title': 'Domain name (1 year)',\n",
    ">        'charge': 200.0\n",
    ">    }]\n",
    ">}\n",
    ">\n",
    ">html = requests.post(url, json=data)\n",
    ">\n",
    ">with open('invoice_test.pdf', 'wb') as f:\n",
    ">    f.write(html.content)\n",
    ">```"
   ]
  },
  {
   "cell_type": "markdown",
   "id": "34a70786",
   "metadata": {},
   "source": [
    "When we run this file, we will have a file named `invoice_test.pdf` in our current working directory ([click to view](invoice_test.pdf))."
   ]
  },
  {
   "cell_type": "code",
   "execution_count": 13,
   "id": "668c6eac",
   "metadata": {},
   "outputs": [
    {
     "name": "stdout",
     "output_type": "stream",
     "text": [
      "^C\n"
     ]
    }
   ],
   "source": [
    "!python app_test.py"
   ]
  },
  {
   "cell_type": "markdown",
   "id": "456dcfb3",
   "metadata": {},
   "source": [
    "<p style=\"text-align:center;\">\n",
    "    <img src=\"images/test_output_pdf.png\" alt=\"pdf-output\" title=\"PDF Output\" width=\"500\" style=\"border:2px solid black\"><br>\n",
    "    <center><i>Fig. 5: Invoice PDF Test Output</i></center>\n",
    "</p>"
   ]
  },
  {
   "cell_type": "markdown",
   "id": "15f05684",
   "metadata": {},
   "source": [
    "## Challenges"
   ]
  },
  {
   "cell_type": "markdown",
   "id": "6604a924",
   "metadata": {},
   "source": [
    "- The installation of `weasyprint` library might be a challenging task as it has different dependencies based on the system being used. Often, issues arise due to missing packages on the system. One can always refer to their official documentation ([link](https://doc.courtbouillon.org/weasyprint/stable/first_steps.html)) or search Stackoverflow, Google etc. for possible fixes.\n",
    "\n",
    "\n",
    "- Rendering and sending the file directly to the user as a PDF without saving it to disk can become a bottleneck in some cases, especially in bigger applications. In such cases, we will have to use a task scheduler like Celery package ([link](https://docs.celeryq.dev/en/stable/getting-started/first-steps-with-celery.html#first-steps)) to render the PDF in the background and then send it to the client.\n",
    "\n",
    "\n",
    "- Our current application can be DOSed (Denial of Service) easily as PDF generation takes time, which might put heavy load on the server causing it not respond to user requests. To help mitigate the risk of DOS, we can run the PDF generation asynchronously using a task queue like Celery."
   ]
  },
  {
   "cell_type": "markdown",
   "id": "7fcc74f8",
   "metadata": {},
   "source": [
    "## Further Steps"
   ]
  },
  {
   "cell_type": "markdown",
   "id": "73ead46a",
   "metadata": {},
   "source": [
    "- We can extend this project by implementing email functionality. For example, we can design it such that if we pass in an email, the application will render and send the PDF to the passed-in email id.\n",
    "\n",
    "\n",
    "- Applying the methods outlined in this project, we can further host this application on Heroku or DigitalOcean or any Virtual Private Server."
   ]
  },
  {
   "cell_type": "markdown",
   "id": "91f8217e",
   "metadata": {},
   "source": [
    "***"
   ]
  },
  {
   "cell_type": "markdown",
   "id": "325f6ad2",
   "metadata": {},
   "source": [
    "## References"
   ]
  },
  {
   "cell_type": "markdown",
   "id": "47670113",
   "metadata": {},
   "source": [
    "- Pallets. 2022. _Command Line Interface_. Flask Documentation. [URL](https://flask.palletsprojects.com/en/latest/cli/)\n",
    "\n",
    "\n",
    "- Grinberg, Miguel. 2020. _How to Run a Flask Application_. Twilio Blog. [URL](https://www.twilio.com/blog/how-run-flask-application)\n",
    "\n",
    "\n",
    "- Refsnes Data. 2022. _HTML Element Reference_. W3Schools. [URL](https://www.w3schools.com/tags/)\n",
    "\n",
    "\n",
    "- Kravcenko, Vadim. 2021. _Pipreqs Package Documentation_. Python Package Index (PyPI). [URL](https://pypi.org/project/pipreqs/)"
   ]
  }
 ],
 "metadata": {
  "kernelspec": {
   "display_name": "inv-env",
   "language": "python",
   "name": "inv-env"
  },
  "language_info": {
   "codemirror_mode": {
    "name": "ipython",
    "version": 3
   },
   "file_extension": ".py",
   "mimetype": "text/x-python",
   "name": "python",
   "nbconvert_exporter": "python",
   "pygments_lexer": "ipython3",
   "version": "3.10.1"
  },
  "toc": {
   "base_numbering": 1,
   "nav_menu": {
    "height": "266px",
    "width": "259.2px"
   },
   "number_sections": true,
   "sideBar": true,
   "skip_h1_title": true,
   "title_cell": "Table of Contents",
   "title_sidebar": "Contents",
   "toc_cell": false,
   "toc_position": {
    "height": "calc(100% - 180px)",
    "left": "10px",
    "top": "150px",
    "width": "271px"
   },
   "toc_section_display": true,
   "toc_window_display": true
  }
 },
 "nbformat": 4,
 "nbformat_minor": 5
}
